{
 "cells": [
  {
   "cell_type": "markdown",
   "id": "258873be",
   "metadata": {},
   "source": [
    "# 📊 Análisis de Datos: Tránsito de Buques por el Canal de Panamá\n",
    "Este notebook contiene un análisis de datos de tránsito de buques por el Canal de Panamá, basado en datos simulados inspirados en fuentes oficiales como [pancanal.com](https://pancanal.com)."
   ]
  },
  {
   "cell_type": "code",
   "execution_count": null,
   "id": "edbc2216",
   "metadata": {},
   "outputs": [],
   "source": [
    "import pandas as pd\n",
    "import matplotlib.pyplot as plt\n",
    "import seaborn as sns\n",
    "from datetime import datetime\n",
    "\n",
    "# Configuración de visualización\n",
    "sns.set(style='whitegrid')\n",
    "%matplotlib inline"
   ]
  },
  {
   "cell_type": "markdown",
   "id": "939808a7",
   "metadata": {},
   "source": [
    "## 📥 Datos Simulados de Tránsito de Buques"
   ]
  },
  {
   "cell_type": "code",
   "execution_count": null,
   "id": "23994769",
   "metadata": {},
   "outputs": [],
   "source": [
    "# Simular datos de tránsito de buques por día\n",
    "fechas = pd.date_range(start='2025-01-01', end='2025-03-31', freq='D')\n",
    "tipos_buques = ['Portacontenedores', 'Granelero', 'Tanquero', 'Carga General']\n",
    "\n",
    "import numpy as np\n",
    "np.random.seed(42)\n",
    "\n",
    "data = {\n",
    "    'fecha': fechas,\n",
    "    'buques_totales': np.random.randint(25, 40, size=len(fechas)),\n",
    "    'tipo_principal': np.random.choice(tipos_buques, size=len(fechas), p=[0.4, 0.3, 0.2, 0.1])\n",
    "}\n",
    "df = pd.DataFrame(data)\n",
    "df.head()"
   ]
  },
  {
   "cell_type": "markdown",
   "id": "01cde49e",
   "metadata": {},
   "source": [
    "## 📊 Tránsito Promedio Diario por Mes"
   ]
  },
  {
   "cell_type": "code",
   "execution_count": null,
   "id": "13dd1111",
   "metadata": {},
   "outputs": [],
   "source": [
    "df['mes'] = df['fecha'].dt.strftime('%Y-%m')\n",
    "promedios = df.groupby('mes')['buques_totales'].mean()\n",
    "promedios.plot(kind='bar', title='Promedio Diario de Tránsitos por Mes', ylabel='Buques por día', figsize=(8,5), color='skyblue')\n",
    "plt.xticks(rotation=45)\n",
    "plt.tight_layout()\n",
    "plt.show()"
   ]
  },
  {
   "cell_type": "markdown",
   "id": "3e05b2dd",
   "metadata": {},
   "source": [
    "## 🛳️ Distribución por Tipo Principal de Buque"
   ]
  },
  {
   "cell_type": "code",
   "execution_count": null,
   "id": "0b947cfc",
   "metadata": {},
   "outputs": [],
   "source": [
    "tipo_counts = df['tipo_principal'].value_counts()\n",
    "tipo_counts.plot(kind='pie', autopct='%1.1f%%', startangle=90, title='Distribución de Tipo de Buques', figsize=(6,6), colormap='Set3')\n",
    "plt.ylabel('')\n",
    "plt.show()"
   ]
  },
  {
   "cell_type": "markdown",
   "id": "c999888f",
   "metadata": {},
   "source": [
    "## 📅 Análisis Temporal Detallado"
   ]
  },
  {
   "cell_type": "code",
   "execution_count": null,
   "id": "373bd372",
   "metadata": {},
   "outputs": [],
   "source": [
    "# Tránsitos máximos y mínimos por día\n",
    "dia_max = df.loc[df['buques_totales'].idxmax()]\n",
    "dia_min = df.loc[df['buques_totales'].idxmin()]\n",
    "print('📈 Día con más tránsitos:', dia_max['fecha'].date(), '-', dia_max['buques_totales'], 'buques')\n",
    "print('📉 Día con menos tránsitos:', dia_min['fecha'].date(), '-', dia_min['buques_totales'], 'buques')"
   ]
  },
  {
   "cell_type": "code",
   "execution_count": null,
   "id": "30739398",
   "metadata": {},
   "outputs": [],
   "source": [
    "# Tendencia de tránsitos diarios\n",
    "plt.figure(figsize=(10, 4))\n",
    "plt.plot(df['fecha'], df['buques_totales'], color='blue', alpha=0.6)\n",
    "plt.title('Tránsitos Diarios de Buques (Ene - Mar 2025)')\n",
    "plt.xlabel('Fecha')\n",
    "plt.ylabel('Buques Totales')\n",
    "plt.tight_layout()\n",
    "plt.show()"
   ]
  },
  {
   "cell_type": "markdown",
   "id": "f65d386a",
   "metadata": {},
   "source": [
    "## 📊 Comparación Promedio de Tránsitos por Tipo de Buque"
   ]
  },
  {
   "cell_type": "code",
   "execution_count": null,
   "id": "803efa98",
   "metadata": {},
   "outputs": [],
   "source": [
    "# Supongamos que cada tipo de buque representa cierto porcentaje de los tránsitos totales por día\n",
    "tipo_dummies = pd.get_dummies(df['tipo_principal'])\n",
    "df_tipos = df[['fecha', 'buques_totales']].join(tipo_dummies)\n",
    "for tipo in tipo_dummies.columns:\n",
    "    df_tipos[tipo] = df_tipos[tipo] * df_tipos['buques_totales']\n",
    "\n",
    "# Agrupar por mes y calcular promedios\n",
    "df_tipos['mes'] = df_tipos['fecha'].dt.strftime('%Y-%m')\n",
    "resumen_tipos = df_tipos.groupby('mes')[[col for col in tipo_dummies.columns]].sum()\n",
    "resumen_tipos.plot(kind='bar', stacked=True, figsize=(10,6), colormap='Set2')\n",
    "plt.title('Cantidad Estimada de Tránsitos por Tipo de Buque (por Mes)')\n",
    "plt.ylabel('Cantidad Estimada de Buques')\n",
    "plt.xticks(rotation=45)\n",
    "plt.tight_layout()\n",
    "plt.show()"
   ]
  },
  {
   "cell_type": "markdown",
   "id": "08fb797c",
   "metadata": {},
   "source": [
    "## 🔄 Análisis de Variabilidad y Desviación Estándar"
   ]
  },
  {
   "cell_type": "code",
   "execution_count": null,
   "id": "328c059b",
   "metadata": {},
   "outputs": [],
   "source": [
    "# Medidas estadísticas descriptivas\n",
    "print('Desviación estándar por mes:')\n",
    "print(df.groupby('mes')['buques_totales'].std())\n",
    "print('\\nMáximos y mínimos por mes:')\n",
    "print(df.groupby('mes')['buques_totales'].agg(['min', 'max']))"
   ]
  }
 ],
 "metadata": {},
 "nbformat": 4,
 "nbformat_minor": 5
}
