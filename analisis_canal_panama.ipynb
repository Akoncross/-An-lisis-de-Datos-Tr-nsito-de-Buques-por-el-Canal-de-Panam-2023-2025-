{
 "cells": [
  {
   "cell_type": "markdown",
   "id": "35bfb731",
   "metadata": {},
   "source": [
    "# 📊 Análisis Extendido: Tránsito de Buques por el Canal de Panamá (2025)\n",
    "Este notebook analiza cuatro fuentes de datos simuladas sobre el tránsito marítimo por el Canal de Panamá, incluyendo tránsitos diarios, agregados mensuales, tiempos de espera y uso de esclusas."
   ]
  },
  {
   "cell_type": "code",
   "execution_count": null,
   "id": "b44f698c",
   "metadata": {},
   "outputs": [],
   "source": [
    "import pandas as pd\n",
    "import matplotlib.pyplot as plt\n",
    "import seaborn as sns\n",
    "sns.set(style='whitegrid')\n",
    "%matplotlib inline"
   ]
  },
  {
   "cell_type": "markdown",
   "id": "8d08b932",
   "metadata": {},
   "source": [
    "## 📥 Carga de Datos CSV"
   ]
  },
  {
   "cell_type": "code",
   "execution_count": null,
   "id": "5fddcf01",
   "metadata": {},
   "outputs": [],
   "source": [
    "df_diario = pd.read_csv('transito_diario.csv')\n",
    "df_mensual = pd.read_csv('transito_mensual.csv')\n",
    "df_espera = pd.read_csv('tiempos_espera.csv')\n",
    "df_esclusas = pd.read_csv('capacidad_esclusas.csv')\n",
    "df_diario['fecha'] = pd.to_datetime(df_diario['fecha'])\n",
    "df_espera['fecha'] = pd.to_datetime(df_espera['fecha'])\n",
    "df_esclusas['fecha'] = pd.to_datetime(df_esclusas['fecha'])\n",
    "df_diario.head()"
   ]
  },
  {
   "cell_type": "markdown",
   "id": "0ad3816a",
   "metadata": {},
   "source": [
    "## 📈 Tránsitos Diarios Totales"
   ]
  },
  {
   "cell_type": "code",
   "execution_count": null,
   "id": "85e1386b",
   "metadata": {},
   "outputs": [],
   "source": [
    "plt.figure(figsize=(12,5))\n",
    "plt.plot(df_diario['fecha'], df_diario['total'], label='Total de Buques', color='navy')\n",
    "plt.title('Tránsitos Diarios Totales por el Canal de Panamá (2025)')\n",
    "plt.xlabel('Fecha')\n",
    "plt.ylabel('Cantidad de Buques')\n",
    "plt.legend()\n",
    "plt.tight_layout()\n",
    "plt.show()"
   ]
  },
  {
   "cell_type": "markdown",
   "id": "9837db15",
   "metadata": {},
   "source": [
    "## 📊 Distribución de Tránsitos por Tipo de Buque"
   ]
  },
  {
   "cell_type": "code",
   "execution_count": null,
   "id": "e0ecbcaa",
   "metadata": {},
   "outputs": [],
   "source": [
    "df_diario[['portacontenedores', 'graneleros', 'tanqueros', 'carga_general']].sum().plot(\n",
    "    kind='bar', figsize=(8,4), color=sns.color_palette('pastel'))\n",
    "plt.title('Total de Buques por Tipo (Ene–Mar 2025)')\n",
    "plt.ylabel('Total')\n",
    "plt.xticks(rotation=0)\n",
    "plt.tight_layout()\n",
    "plt.show()"
   ]
  },
  {
   "cell_type": "markdown",
   "id": "dab88d83",
   "metadata": {},
   "source": [
    "## 🕒 Tiempos Promedio de Espera"
   ]
  },
  {
   "cell_type": "code",
   "execution_count": null,
   "id": "6828444a",
   "metadata": {},
   "outputs": [],
   "source": [
    "plt.figure(figsize=(10,4))\n",
    "plt.plot(df_espera['fecha'], df_espera['espera_con_reserva'], label='Con Reserva')\n",
    "plt.plot(df_espera['fecha'], df_espera['espera_sin_reserva'], label='Sin Reserva')\n",
    "plt.title('Tiempos de Espera Promedio de Buques')\n",
    "plt.xlabel('Fecha')\n",
    "plt.ylabel('Horas')\n",
    "plt.legend()\n",
    "plt.tight_layout()\n",
    "plt.show()"
   ]
  },
  {
   "cell_type": "markdown",
   "id": "d2255789",
   "metadata": {},
   "source": [
    "## 🚢 Uso de Esclusas y Tonelaje Transportado"
   ]
  },
  {
   "cell_type": "code",
   "execution_count": null,
   "id": "91ce2d5b",
   "metadata": {},
   "outputs": [],
   "source": [
    "esclusas_grouped = df_esclusas.groupby('esclusa').agg({'transitos': 'sum', 'toneladas_cargadas': 'sum'})\n",
    "esclusas_grouped.plot(kind='bar', subplots=True, figsize=(10,6), layout=(2,1), legend=False, color=['#1f77b4', '#ff7f0e'])\n",
    "plt.suptitle('Uso de Esclusas y Carga Total (Ene–Mar 2025)')\n",
    "plt.tight_layout()\n",
    "plt.show()"
   ]
  }
 ],
 "metadata": {},
 "nbformat": 4,
 "nbformat_minor": 5
}
